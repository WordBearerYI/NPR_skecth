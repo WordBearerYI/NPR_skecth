{
 "cells": [
  {
   "cell_type": "code",
   "execution_count": 1,
   "metadata": {},
   "outputs": [
    {
     "name": "stdout",
     "output_type": "stream",
     "text": [
      "52472\n",
      "52472\n",
      "03211117_f800fbcdef1ac9038b5dbcd4be5ceef8\n",
      "/home/mmvc/Desktop/ShapeNetCore.v2/03211117/f800fbcdef1ac9038b5dbcd4be5ceef8/models/model_normalized.obj\n"
     ]
    }
   ],
   "source": [
    "import glob\n",
    "import tqdm\n",
    "import os\n",
    "import sys\n",
    "data_dir =  \"/home/mmvc/Desktop/\"\n",
    "\n",
    "paths = glob.glob(data_dir+\"ShapeNetCore.v2/*/*/models/model_normalized.obj\")\n",
    "names = ['_'.join(x.split('/')[-4:-2]) for x in paths]\n",
    "print(len(paths))\n",
    "print(len(names))\n",
    "print(names[0])\n",
    "print(paths[0])"
   ]
  },
  {
   "cell_type": "code",
   "execution_count": 5,
   "metadata": {},
   "outputs": [
    {
     "name": "stdout",
     "output_type": "stream",
     "text": [
      "/bin/sh: 1: Syntax error: word unexpected (expecting \")\")\r\n"
     ]
    }
   ],
   "source": [
    "#f.close()\n",
    "!os.remove(\"cpk\")"
   ]
  },
  {
   "cell_type": "code",
   "execution_count": 2,
   "metadata": {},
   "outputs": [],
   "source": [
    "out_dir_depth = data_dir+\"shapenet_depth/\"\n",
    "out_dir_normal = data_dir+\"shapenet_normal/\"\n",
    "out_dir_sketch = data_dir+\"shapenet_sketch/\"\n",
    "if not os.path.exists(out_dir_depth) or not os.path.exists(out_dir_normal) or not os.path.exists(out_dir_sketch):\n",
    "    os.mkdir(out_dir_depth)\n",
    "    os.mkdir(out_dir_normal)\n",
    "    os.mkdir(out_dir_sketch)\n",
    "    \n",
    "def create_dir(pth):\n",
    "    if not os.path.exists(pth):\n",
    "        os.mkdir(pth)\n",
    "        "
   ]
  },
  {
   "cell_type": "code",
   "execution_count": null,
   "metadata": {},
   "outputs": [
    {
     "name": "stderr",
     "output_type": "stream",
     "text": [
      "\r",
      "  0%|          | 0/52472 [00:00<?, ?it/s]"
     ]
    },
    {
     "name": "stdout",
     "output_type": "stream",
     "text": [
      "loading success! /home/mmvc/Desktop/ShapeNetCore.v2/03211117/f800fbcdef1ac9038b5dbcd4be5ceef8/models/model_normalized.obj 1678 6976 20928\n",
      "loading success! /home/mmvc/Desktop/ShapeNetCore.v2/03211117/f800fbcdef1ac9038b5dbcd4be5ceef8/models/model_normalized.obj 1678 6976 20928\n",
      "Traceback (most recent call last):\n",
      "  File \"../py_src/edge.py\", line 29, in <module>\n",
      "    de = get_edge(flip_save(dpth))\n",
      "  File \"../py_src/edge.py\", line 16, in flip_save\n",
      "    cv2.imwrite(img_pth,img)\n",
      "cv2.error: OpenCV(4.1.2) /io/opencv/modules/imgcodecs/src/loadsave.cpp:715: error: (-215:Assertion failed) !_img.empty() in function 'imwrite'\n",
      "\n"
     ]
    },
    {
     "name": "stderr",
     "output_type": "stream",
     "text": [
      "\r",
      "  0%|          | 1/52472 [00:02<36:37:48,  2.51s/it]"
     ]
    },
    {
     "name": "stdout",
     "output_type": "stream",
     "text": [
      "loading success! /home/mmvc/Desktop/ShapeNetCore.v2/03211117/3317e93256b3f4f15e7087f2d9a278a9/models/model_normalized.obj 414 1648 4944\n",
      "loading success! /home/mmvc/Desktop/ShapeNetCore.v2/03211117/3317e93256b3f4f15e7087f2d9a278a9/models/model_normalized.obj 414 1648 4944\n",
      "Traceback (most recent call last):\n",
      "  File \"../py_src/edge.py\", line 29, in <module>\n",
      "    de = get_edge(flip_save(dpth))\n",
      "  File \"../py_src/edge.py\", line 16, in flip_save\n",
      "    cv2.imwrite(img_pth,img)\n",
      "cv2.error: OpenCV(4.1.2) /io/opencv/modules/imgcodecs/src/loadsave.cpp:715: error: (-215:Assertion failed) !_img.empty() in function 'imwrite'\n",
      "\n"
     ]
    },
    {
     "name": "stderr",
     "output_type": "stream",
     "text": [
      "\r",
      "  0%|          | 2/52472 [00:04<34:00:51,  2.33s/it]"
     ]
    },
    {
     "name": "stdout",
     "output_type": "stream",
     "text": [
      "loading success! /home/mmvc/Desktop/ShapeNetCore.v2/03211117/7c5b291091dd0a166acb8fbfb472b3a6/models/model_normalized.obj 3012 12072 36216\n",
      "loading success! /home/mmvc/Desktop/ShapeNetCore.v2/03211117/7c5b291091dd0a166acb8fbfb472b3a6/models/model_normalized.obj 3012 12072 36216\n",
      "Traceback (most recent call last):\n",
      "  File \"../py_src/edge.py\", line 29, in <module>\n",
      "    de = get_edge(flip_save(dpth))\n",
      "  File \"../py_src/edge.py\", line 16, in flip_save\n",
      "    cv2.imwrite(img_pth,img)\n",
      "cv2.error: OpenCV(4.1.2) /io/opencv/modules/imgcodecs/src/loadsave.cpp:715: error: (-215:Assertion failed) !_img.empty() in function 'imwrite'\n",
      "\n"
     ]
    },
    {
     "name": "stderr",
     "output_type": "stream",
     "text": [
      "\r",
      "  0%|          | 3/52472 [00:07<37:24:45,  2.57s/it]"
     ]
    },
    {
     "name": "stdout",
     "output_type": "stream",
     "text": [
      "loading success! /home/mmvc/Desktop/ShapeNetCore.v2/03211117/caed0c8c10f5738bafe08eb441adfc09/models/model_normalized.obj 40591 163112 489336\r\n"
     ]
    }
   ],
   "source": [
    "for i in tqdm.tqdm(range(len(paths))):\n",
    "    d_outpath = out_dir_depth + names[i]\n",
    "    n_outpath = out_dir_normal + names[i]\n",
    "    s_outpath = out_dir_sketch + names[i]\n",
    "    create_dir(d_outpath)\n",
    "    create_dir(n_outpath)\n",
    "    create_dir(s_outpath)\n",
    "    inpath = paths[i]\n",
    "    !../build/npr_sy_bin {inpath} {d_outpath} normal 3.3\n",
    "    !../build/npr_sy_bin {inpath} {n_outpath} normal 3.3\n",
    "    !python ../py_src/edge.py {d_outpath} {n_outpath} {s_outpath}\n",
    "    f=open(\"cpk.txt\",\"a\")\n",
    "    f.write(\"%d: %s\"%(i,names[i]))\n",
    "    f.close()\n"
   ]
  },
  {
   "cell_type": "code",
   "execution_count": null,
   "metadata": {},
   "outputs": [],
   "source": []
  },
  {
   "cell_type": "code",
   "execution_count": null,
   "metadata": {},
   "outputs": [],
   "source": []
  }
 ],
 "metadata": {
  "kernelspec": {
   "display_name": "Python 2",
   "language": "python",
   "name": "python2"
  },
  "language_info": {
   "codemirror_mode": {
    "name": "ipython",
    "version": 2
   },
   "file_extension": ".py",
   "mimetype": "text/x-python",
   "name": "python",
   "nbconvert_exporter": "python",
   "pygments_lexer": "ipython2",
   "version": "2.7.15"
  }
 },
 "nbformat": 4,
 "nbformat_minor": 2
}
